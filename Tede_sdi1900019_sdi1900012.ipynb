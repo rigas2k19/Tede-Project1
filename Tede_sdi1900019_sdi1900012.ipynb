{
  "nbformat": 4,
  "nbformat_minor": 0,
  "metadata": {
    "colab": {
      "provenance": [],
      "collapsed_sections": [
        "rHGNVDXK1Gdt",
        "JLkqbnYw2zSz",
        "wbPqdLQH2wmZ",
        "40DPyqem3QMa",
        "YTwKkF_U36S0",
        "Q1HUvYGN3ao9"
      ]
    },
    "kernelspec": {
      "name": "python3",
      "display_name": "Python 3"
    },
    "language_info": {
      "name": "python"
    }
  },
  "cells": [
    {
      "cell_type": "markdown",
      "source": [
        "**Μέλη Ομάδας**\n",
        "- Αποστολάτος Ιωάννης sdi1900012\n",
        "- Βασιλείου Ρηγίνος sdi1900019"
      ],
      "metadata": {
        "id": "LtIdoiVcfEt5"
      }
    },
    {
      "cell_type": "code",
      "execution_count": null,
      "metadata": {
        "id": "K1KjZfIAvVYK"
      },
      "outputs": [],
      "source": [
        "import pandas as pd\n",
        "import numpy as np\n",
        "import matplotlib.pyplot as plt\n",
        "import sys\n",
        "from datetime import date, timedelta\n",
        "import datetime\n",
        "import seaborn as sns\n",
        "from sklearn.preprocessing import LabelEncoder, StandardScaler\n",
        "from sklearn.decomposition import PCA\n",
        "from sklearn.cluster import AgglomerativeClustering, KMeans"
      ]
    },
    {
      "cell_type": "markdown",
      "source": [
        "Open file"
      ],
      "metadata": {
        "id": "QplgKNX5EQxI"
      }
    },
    {
      "cell_type": "code",
      "source": [
        "filepath = '/content/drive/MyDrive/marketing_campaign.csv'\n",
        "\n",
        "df = pd.read_csv(filepath, sep='\\t')\n",
        "df.head(5)"
      ],
      "metadata": {
        "id": "ZbMf0sn7ETB8"
      },
      "execution_count": null,
      "outputs": []
    },
    {
      "cell_type": "code",
      "source": [
        "df.info()"
      ],
      "metadata": {
        "id": "FZMkasj8Et3n"
      },
      "execution_count": null,
      "outputs": []
    },
    {
      "cell_type": "markdown",
      "source": [
        "## Ερωτήματα 1\n"
      ],
      "metadata": {
        "id": "f6Hc9NrZ9FWN"
      }
    },
    {
      "cell_type": "markdown",
      "source": [
        "### Κάνουμε drop τα null values"
      ],
      "metadata": {
        "id": "zThUEfIEE_l4"
      }
    },
    {
      "cell_type": "code",
      "source": [
        "# find number of null values\n",
        "df.isna().sum()\n",
        "\n",
        "df = df.dropna()"
      ],
      "metadata": {
        "id": "-dKtsdOaFEKS"
      },
      "execution_count": null,
      "outputs": []
    },
    {
      "cell_type": "markdown",
      "source": [
        "### Μετατροπή date σε DateType objects"
      ],
      "metadata": {
        "id": "3Qut19pbFkkK"
      }
    },
    {
      "cell_type": "code",
      "source": [
        "df['Dt_Customer'] = pd.to_datetime(df['Dt_Customer'], format='%d-%m-%Y')\n",
        "\n",
        "today = date.today()\n",
        "today = today.strftime('%d-%m-%Y')\n",
        "today = pd.to_datetime(today, format='%d-%m-%Y')\n",
        "\n",
        "df['Recency'] = df['Recency'].apply(lambda x: today - timedelta(days = x))\n",
        "\n",
        "df.head()"
      ],
      "metadata": {
        "id": "v1HmYC5AFoii"
      },
      "execution_count": null,
      "outputs": []
    },
    {
      "cell_type": "markdown",
      "source": [
        "## Ερώτημα 2"
      ],
      "metadata": {
        "id": "3ADRPNMEXfQ6"
      }
    },
    {
      "cell_type": "markdown",
      "source": [
        "### Εκτυπώστε τις μοναδικές τιμές στα κατηγορικά χαρακτηριστικά Marital_Status και Education"
      ],
      "metadata": {
        "id": "2shXQNnlG2ur"
      }
    },
    {
      "cell_type": "code",
      "source": [
        "#get unique values of columns\n",
        "unique1 = df['Education'].unique()\n",
        "unique2 = df['Marital_Status'].unique()\n",
        "\n",
        "print(unique1)\n",
        "print(unique2)"
      ],
      "metadata": {
        "id": "F8axOlilG5Av"
      },
      "execution_count": null,
      "outputs": []
    },
    {
      "cell_type": "markdown",
      "source": [
        "### Αλλαγή alone, absurd, yolo σε single"
      ],
      "metadata": {
        "id": "O_HGxvApH3O5"
      }
    },
    {
      "cell_type": "code",
      "source": [
        "df['Marital_Status'] = df['Marital_Status'].replace('YOLO', 'Single')\n",
        "df['Marital_Status'] = df['Marital_Status'].replace('Alone', 'Single')\n",
        "df['Marital_Status'] = df['Marital_Status'].replace('Absurd', 'Single')\n",
        "\n",
        "print(df['Marital_Status'].unique())"
      ],
      "metadata": {
        "id": "77PJzv7yH6nC"
      },
      "execution_count": null,
      "outputs": []
    },
    {
      "cell_type": "markdown",
      "source": [
        "###Γραφήματα για πλήθος τιμών σε Marital status και Education"
      ],
      "metadata": {
        "id": "n_JrpLwFJOJH"
      }
    },
    {
      "cell_type": "code",
      "source": [
        "marital_status_counts = df['Marital_Status'].value_counts()\n",
        "\n",
        "marital_status_counts.plot(kind=\"bar\")\n",
        "plt.xlabel(\"categories\")\n",
        "plt.ylabel(\"count\")\n",
        "plt.title(\"Marital status\")\n",
        "plt.show()"
      ],
      "metadata": {
        "id": "5LYfDDx0JYOE"
      },
      "execution_count": null,
      "outputs": []
    },
    {
      "cell_type": "code",
      "source": [
        "education_counts = df['Education'].value_counts()\n",
        "\n",
        "education_counts.plot(kind=\"bar\")\n",
        "plt.xlabel(\"categories\")\n",
        "plt.ylabel(\"count\")\n",
        "plt.title(\"Education\")\n",
        "plt.show()"
      ],
      "metadata": {
        "id": "XW388dGWKUq4"
      },
      "execution_count": null,
      "outputs": []
    },
    {
      "cell_type": "markdown",
      "source": [
        "## Ερώτημα 3"
      ],
      "metadata": {
        "id": "fmDe4EjWLOeo"
      }
    },
    {
      "cell_type": "markdown",
      "source": [
        "### Α. Δημιουργία ενός χαρακτηριστικού (\"Customer_For\") που αντιπροσωπεύει τον αριθμό των ημερών που οι πελάτες άρχισαν να ψωνίζουν στο κατάστημα σε σχέση με την τελευταία καταγεγραμμένη ημερομηνία (Recency).\n"
      ],
      "metadata": {
        "id": "T57sY6DGLljC"
      }
    },
    {
      "cell_type": "code",
      "source": [
        "# find recency date\n",
        "df['Customer_For'] = df['Recency'] - df['Dt_Customer']\n",
        "\n",
        "df.head()"
      ],
      "metadata": {
        "id": "tlVI7iqyLc0G"
      },
      "execution_count": null,
      "outputs": []
    },
    {
      "cell_type": "markdown",
      "source": [
        "### Β. Εξαγωγή της ηλικίας \"Age\" ενός πελάτη με βάση το \"Year_Birth\" που υποδεικνύει το έτος γέννησης του αντίστοιχου ατόμου.\n"
      ],
      "metadata": {
        "id": "aRWDDWasYgxK"
      }
    },
    {
      "cell_type": "code",
      "source": [
        "year = datetime.date.today().year\n",
        "\n",
        "df['Age'] = year - df['Year_Birth']\n",
        "\n",
        "df.head()"
      ],
      "metadata": {
        "id": "VKdKx4SIYieM"
      },
      "execution_count": null,
      "outputs": []
    },
    {
      "cell_type": "markdown",
      "source": [
        "### Γ. Δημιουργήστε ένα άλλο χαρακτηριστικό \"Spent\" που υποδεικνύει το συνολικό ποσό που ξόδεψε ο πελάτης σε όλες τις κατηγορίες σε διάστημα δύο ετών"
      ],
      "metadata": {
        "id": "ozg47JRPZZf9"
      }
    },
    {
      "cell_type": "code",
      "source": [
        "df['Spent'] = df[['MntWines', 'MntFruits', 'MntMeatProducts', 'MntFishProducts', 'MntSweetProducts', 'MntGoldProds']].sum(axis=1)\n",
        "\n",
        "df.head(10)"
      ],
      "metadata": {
        "id": "15wYagfqZbJ7"
      },
      "execution_count": null,
      "outputs": []
    },
    {
      "cell_type": "markdown",
      "source": [
        "### Δ. Δημιουργήστε ένα χαρακτηριστικό \"Παιδιά\" για να δηλώσετε το σύνολο των παιδιών σε ένα νοικοκυριό, δηλαδή τα παιδιά και τους εφήβους.\n"
      ],
      "metadata": {
        "id": "K7QOsARHjZ7k"
      }
    },
    {
      "cell_type": "code",
      "source": [
        "df['Children'] = df[['Kidhome', 'Teenhome']].sum(axis=1)\n",
        "\n",
        "df.head(10)"
      ],
      "metadata": {
        "id": "KVRv32HMjbll"
      },
      "execution_count": null,
      "outputs": []
    },
    {
      "cell_type": "markdown",
      "source": [
        "### Ε. Για να αποκτήσετε περαιτέρω σαφήνεια του νοικοκυριού, δημιουργήστε ένα χαρακτηριστικό με ένδειξη \"Family_Size\" που δείχνει το συνολικό αριθμό των ατόμων σε ένα νοικοκυριό"
      ],
      "metadata": {
        "id": "lIrVyjEfkIJL"
      }
    },
    {
      "cell_type": "code",
      "source": [
        "df['Family_Size'] = df['Children'] + df['Marital_Status'].apply(lambda x: 1 if (x == 'Single' or x == 'Divorced' or x == 'Widowed') else 2)\n",
        "\n",
        "df['Family_Size'].head(10)"
      ],
      "metadata": {
        "id": "7iIN_8FukWKD"
      },
      "execution_count": null,
      "outputs": []
    },
    {
      "cell_type": "markdown",
      "source": [
        "### Στ. Δημιουργήστε ένα χαρακτηριστικό \"Is_Parent\" που δηλώνει αν ένας πελάτης είναι και γονιός"
      ],
      "metadata": {
        "id": "GyGKXwaCm_Tm"
      }
    },
    {
      "cell_type": "code",
      "source": [
        "df['Is_Parent'] = df['Children'].apply(lambda x: 0 if (x == 0) else 1)\n",
        "\n",
        "df['Is_Parent'].head(10)"
      ],
      "metadata": {
        "id": "hraR1GmDnBDi"
      },
      "execution_count": null,
      "outputs": []
    },
    {
      "cell_type": "markdown",
      "source": [
        "### Ζ. Δημιουργήστε ένα άλλο χαρακτηριστικό \"Living_With\" χρησιμοποιώντας το \"Marital_Status\" για να εξάγετε την κατάσταση διαβίωσης των ζευγαριών. Συγκεκριμένα το χαρακτηριστικό αυτό πρέπει να έχει δύο τιμές, \"Partner\" και \"Alone\".\n"
      ],
      "metadata": {
        "id": "XJxQfgTPoh5j"
      }
    },
    {
      "cell_type": "code",
      "source": [
        "df['Living_With'] = df['Marital_Status'].apply(lambda x: 'Alone' if (x == 'Single' or x == 'Divorced' or x == 'Widowed') else 'Partner')\n",
        "\n",
        "df['Living_With'].head(10)"
      ],
      "metadata": {
        "id": "guuBgtEJop5y"
      },
      "execution_count": null,
      "outputs": []
    },
    {
      "cell_type": "markdown",
      "source": [
        "### Η. Δημιουργήστε τη στήλη “Age Group” χρησιμοποιώντας τη στήλη “Age”, η οποία να ομαδοποιεί τις ηλικίες στις παρακάτω τιμές \"21-30\", \"31-40\", \"41-50\", \"51-60\", \"61-70\", \"71-80\", \">80\"."
      ],
      "metadata": {
        "id": "l_X9TKGkpEW8"
      }
    },
    {
      "cell_type": "code",
      "source": [
        "#create bins and labels for each category\n",
        "bins = [20, 30, 40, 50, 60, 70, 80, float('inf')]\n",
        "labels = ['21-30', '31-40', '41-50', '51-60', '61-70', '71-80', '>80']\n",
        "\n",
        "df['Age_Group'] = pd.cut(df['Age'], bins=bins, labels=labels)\n",
        "\n",
        "df['Age_Group'] = df['Age_Group'].astype(str)\n",
        "\n",
        "df['Age_Group'].head(10)"
      ],
      "metadata": {
        "id": "2W6va-N6pGNO"
      },
      "execution_count": null,
      "outputs": []
    },
    {
      "cell_type": "markdown",
      "source": [
        "## Ερώτημα 4."
      ],
      "metadata": {
        "id": "skzfBxUCTa-M"
      }
    },
    {
      "cell_type": "markdown",
      "source": [
        "### Ελέγξτε αν υπάρχουν ακραίες τιμές στα χαρακτηριστικά και διαγράψτε τις από τα δεδομένα"
      ],
      "metadata": {
        "id": "_nf5HJRA_FuM"
      }
    },
    {
      "cell_type": "code",
      "source": [
        "df.describe()"
      ],
      "metadata": {
        "id": "8GWaTPkUgh6v"
      },
      "execution_count": null,
      "outputs": []
    },
    {
      "cell_type": "markdown",
      "source": [
        "###Αφαίρεση ακραίων τιμών από Year Birth"
      ],
      "metadata": {
        "id": "Ue44lkSJY3zW"
      }
    },
    {
      "cell_type": "code",
      "source": [
        "threshold = 0.001\n",
        "removed_rows = df[df['Year_Birth'] <= df['Year_Birth'].quantile(threshold)]\n",
        "df = df[df['Year_Birth'] > df['Year_Birth'].quantile(threshold)]\n",
        "\n",
        "print(removed_rows)\n",
        "df.shape"
      ],
      "metadata": {
        "id": "HgSchD1gTd1f"
      },
      "execution_count": null,
      "outputs": []
    },
    {
      "cell_type": "markdown",
      "source": [
        "###Αφαίρεση ακραίων τιμών από Income"
      ],
      "metadata": {
        "id": "N7QQG3o3Y-dL"
      }
    },
    {
      "cell_type": "code",
      "source": [
        "threshold = 0.1\n",
        "removed_rows = df[df['Income'] <= df['Income'].quantile(threshold)]\n",
        "df = df[df['Income'] > df['Income'].quantile(threshold)]\n",
        "\n",
        "threshold = 0.99\n",
        "removed_rows = df[df['Income'] >= df['Income'].quantile(threshold)]\n",
        "df = df[df['Income'] < df['Income'].quantile(threshold)]\n",
        "\n",
        "print(removed_rows)\n",
        "df.shape"
      ],
      "metadata": {
        "id": "SJExXQbNgYts"
      },
      "execution_count": null,
      "outputs": []
    },
    {
      "cell_type": "markdown",
      "source": [
        "###Αφαίρεση ακραίων τιμών από Spent"
      ],
      "metadata": {
        "id": "kw5CioK-ZK_n"
      }
    },
    {
      "cell_type": "code",
      "source": [
        "threshold = 0.01\n",
        "removed_rows = df[df['Spent'] <= df['Spent'].quantile(threshold)]\n",
        "df = df[df['Spent'] > df['Spent'].quantile(threshold)]\n",
        "\n",
        "print(removed_rows)\n",
        "df.shape"
      ],
      "metadata": {
        "id": "H6FOXivWh-Xg"
      },
      "execution_count": null,
      "outputs": []
    },
    {
      "cell_type": "markdown",
      "source": [
        "## Ερώτημα 5"
      ],
      "metadata": {
        "id": "kZ5zSIgxdjOM"
      }
    },
    {
      "cell_type": "markdown",
      "source": [
        "### Στη συνέχεια, εξετάστε τη συσχέτιση μεταξύ των χαρακτηριστικών με ένα heatmap διάγραμμα. (Εξαιρώντας τα κατηγορικά χαρακτηριστικά σε αυτό το σημείο)"
      ],
      "metadata": {
        "id": "gfJoIl8G_h5q"
      }
    },
    {
      "cell_type": "code",
      "source": [
        "df.info()"
      ],
      "metadata": {
        "id": "mt6NVx6ymh2t"
      },
      "execution_count": null,
      "outputs": []
    },
    {
      "cell_type": "markdown",
      "source": [
        "### Αφαίρεση non-numerical data και δεδομένων που υπάρχουν σε άλλη κατηγορία πχ MntWines στο Spent"
      ],
      "metadata": {
        "id": "lFK4_765Zhnv"
      }
    },
    {
      "cell_type": "code",
      "source": [
        "# select only the columns with numerical data\n",
        "new_df = df.copy()\n",
        "\n",
        "new_df = new_df.drop('Age_Group', axis=1)\n",
        "new_df = new_df.drop('Living_With', axis=1)\n",
        "new_df = new_df.drop('Is_Parent', axis=1)\n",
        "new_df = new_df.drop('Customer_For', axis=1)\n",
        "new_df = new_df.drop('Recency', axis=1)\n",
        "new_df = new_df.drop('Dt_Customer', axis=1)\n",
        "new_df = new_df.drop('MntWines', axis=1)\n",
        "new_df = new_df.drop('MntFruits', axis=1)\n",
        "new_df = new_df.drop('MntFishProducts', axis=1)\n",
        "new_df = new_df.drop('MntMeatProducts', axis=1)\n",
        "new_df = new_df.drop('MntSweetProducts', axis=1)\n",
        "new_df = new_df.drop('MntGoldProds', axis=1)\n",
        "new_df = new_df.drop('Education', axis=1)\n",
        "new_df = new_df.drop('Marital_Status', axis=1)\n",
        "new_df = new_df.drop('ID', axis=1)\n",
        "new_df = new_df.drop('Year_Birth', axis=1)\n",
        "new_df = new_df.drop('Z_CostContact', axis=1)\n",
        "new_df = new_df.drop('Z_Revenue', axis=1)\n",
        "\n",
        "new_df"
      ],
      "metadata": {
        "id": "iegYdaEtdkfL"
      },
      "execution_count": null,
      "outputs": []
    },
    {
      "cell_type": "code",
      "source": [
        "plt.figure(figsize=(18, 14))\n",
        "\n",
        "# Create the heatmap using seaborn\n",
        "heatmap = sns.heatmap(new_df.corr(), annot= True, cmap='coolwarm')\n",
        "cbar = heatmap.collections[0].colorbar  # Add a color bar for the color map\n",
        "cbar.ax.set_ylabel('Value')  # Label the color bar\n",
        "\n",
        "# Show the plot\n",
        "plt.show()"
      ],
      "metadata": {
        "id": "nAUDewxIoGbG"
      },
      "execution_count": null,
      "outputs": []
    },
    {
      "cell_type": "markdown",
      "source": [
        "## Ερώτημα 6"
      ],
      "metadata": {
        "id": "Y0v01kymrXRQ"
      }
    },
    {
      "cell_type": "code",
      "source": [
        "def plot_bar(x_label, y_label, title, count):\n",
        "  # Create the bar plot and set custom colors\n",
        "  ax = count.plot(kind='bar', x=x_label, y=y_label, color=['r', 'g', 'b', 'y', 'black'])\n",
        "\n",
        "  # Set the plot title and labels\n",
        "  ax.set_title(title)\n",
        "  ax.set_xlabel(x_label)\n",
        "  ax.set_ylabel(y_label)\n",
        "\n",
        "  # Show the plot\n",
        "  plt.show()"
      ],
      "metadata": {
        "id": "jleqFRJ2tZDz"
      },
      "execution_count": null,
      "outputs": []
    },
    {
      "cell_type": "markdown",
      "source": [
        "####1. Σε ποιά κατηγορία Marital_Status ανήκει το μεγαλύτερο ποσοστό των πελατών της εταιρείας"
      ],
      "metadata": {
        "id": "YS9nYc_E_sh4"
      }
    },
    {
      "cell_type": "code",
      "source": [
        "marital_status_counts = df['Marital_Status'].value_counts()\n",
        "\n",
        "plot_bar('Marital Status', 'Count', 'Marital Status', marital_status_counts)"
      ],
      "metadata": {
        "id": "jVrC-TczrY1m"
      },
      "execution_count": null,
      "outputs": []
    },
    {
      "cell_type": "markdown",
      "source": [
        "####2. Πόσοι πελάτες έχουν κάνει Complain ;"
      ],
      "metadata": {
        "id": "M6TUR01hs7Kc"
      }
    },
    {
      "cell_type": "code",
      "source": [
        "plot_bar('Complain', 'Count', 'Complaints', df['Complain'].value_counts())"
      ],
      "metadata": {
        "id": "Aee8-1_Hs6hS"
      },
      "execution_count": null,
      "outputs": []
    },
    {
      "cell_type": "markdown",
      "source": [
        "Παρατηρούμε ότι οι περισσότεροι πελάτες δεν έχουν κάνει complain"
      ],
      "metadata": {
        "id": "mIvFI7USaxrz"
      }
    },
    {
      "cell_type": "markdown",
      "source": [
        "####3. Σχέση μεταξύ του αριθμού των αγορών Spent και της οικογενειακής κατάστασης."
      ],
      "metadata": {
        "id": "8r8qNrFdwMmW"
      }
    },
    {
      "cell_type": "code",
      "source": [
        "plot_bar('Marital Status', 'Spent', 'Marital Status vs Spent', df.groupby('Marital_Status')['Spent'].mean())"
      ],
      "metadata": {
        "id": "gKmsfb9RwPxL"
      },
      "execution_count": null,
      "outputs": []
    },
    {
      "cell_type": "markdown",
      "source": [
        "####5. Τι σχέση έχει η ηλικία Age Group με το χαρακτηριστικό Spent των αγορών;"
      ],
      "metadata": {
        "id": "uMy9idcfuacc"
      }
    },
    {
      "cell_type": "code",
      "source": [
        "plot_bar('Age_Group', 'Spent', 'Age Group vs Spent', df.groupby('Age_Group')['Spent'].mean())"
      ],
      "metadata": {
        "id": "tAyNnwTi0mjW"
      },
      "execution_count": null,
      "outputs": []
    },
    {
      "cell_type": "markdown",
      "source": [
        "####6. Τι σχέση έχει το εισόδημα Income με το χαρακτηριστικό Spent των αγορών;"
      ],
      "metadata": {
        "id": "yEuZT0-3062v"
      }
    },
    {
      "cell_type": "code",
      "source": [
        "df.plot(kind='scatter', x='Income', y='Spent')\n",
        "\n",
        "# Set the plot title and labels\n",
        "plt.title('Income vs. Spent')\n",
        "plt.xlabel('Income')\n",
        "plt.ylabel('Spent')\n",
        "\n",
        "# Show the plot\n",
        "plt.show()"
      ],
      "metadata": {
        "id": "rzZgi15M07sE"
      },
      "execution_count": null,
      "outputs": []
    },
    {
      "cell_type": "markdown",
      "source": [
        "####7. Ποια είναι η σχέση μεταξύ της εκπαίδευσης και του εισοδήματος;"
      ],
      "metadata": {
        "id": "rHGNVDXK1Gdt"
      }
    },
    {
      "cell_type": "code",
      "source": [
        "plot_bar('Education', 'Income', 'Income - Education', df.groupby('Education')['Income'].mean())"
      ],
      "metadata": {
        "id": "_7vPSgJB1IlQ"
      },
      "execution_count": null,
      "outputs": []
    },
    {
      "cell_type": "markdown",
      "source": [
        "####8. Ποια είναι η σχέση μεταξύ του εισοδήματος και του μεγέθους της οικογένειας;"
      ],
      "metadata": {
        "id": "JLkqbnYw2zSz"
      }
    },
    {
      "cell_type": "code",
      "source": [
        "plot_bar('Family_Size', 'Income', 'Income - Family Size', df.groupby('Family_Size')['Income'].mean())"
      ],
      "metadata": {
        "id": "ZkMLHLa121uW"
      },
      "execution_count": null,
      "outputs": []
    },
    {
      "cell_type": "markdown",
      "source": [
        "####9. Ποια είναι η σχέση μεταξύ του εισοδήματος και του αριθμού των παιδιών;"
      ],
      "metadata": {
        "id": "wbPqdLQH2wmZ"
      }
    },
    {
      "cell_type": "code",
      "source": [
        "plot_bar('Children', 'Income', 'Income -Children', df.groupby('Children')['Income'].mean())"
      ],
      "metadata": {
        "id": "_Bp428HO24vf"
      },
      "execution_count": null,
      "outputs": []
    },
    {
      "cell_type": "markdown",
      "source": [
        "####10. Ποια είναι η σχέση μεταξύ του εισοδήματος και του Living_With;"
      ],
      "metadata": {
        "id": "40DPyqem3QMa"
      }
    },
    {
      "cell_type": "code",
      "source": [
        "plot_bar('Living_With', 'Income', 'Income -Living_With', df.groupby('Living_With')['Income'].mean())"
      ],
      "metadata": {
        "id": "Zdgkq77m3X4W"
      },
      "execution_count": null,
      "outputs": []
    },
    {
      "cell_type": "markdown",
      "source": [
        "####15. Σχεδιάστε το ιστόγραμμα για τη στήλη Income."
      ],
      "metadata": {
        "id": "YTwKkF_U36S0"
      }
    },
    {
      "cell_type": "code",
      "source": [
        "df['Income'].hist()\n",
        "\n",
        "plt.title('Income Histogram')\n",
        "plt.xlabel('Income')\n",
        "plt.ylabel('Frequency')\n",
        "\n",
        "plt.show()"
      ],
      "metadata": {
        "id": "U8Tf_Vos30SV"
      },
      "execution_count": null,
      "outputs": []
    },
    {
      "cell_type": "markdown",
      "source": [
        "####16. Σχεδιάστε το ιστόγραμμα για τη στήλη Kidhome."
      ],
      "metadata": {
        "id": "Q1HUvYGN3ao9"
      }
    },
    {
      "cell_type": "code",
      "source": [
        "df['Kidhome'].hist()\n",
        "\n",
        "# Set the plot title and labels\n",
        "plt.title('Histogram of Kidhome')\n",
        "plt.xlabel('Kids home')\n",
        "plt.ylabel('Frequency')\n",
        "\n",
        "# Show the plot\n",
        "plt.show()"
      ],
      "metadata": {
        "id": "5oWZZYlf3slH"
      },
      "execution_count": null,
      "outputs": []
    },
    {
      "cell_type": "markdown",
      "source": [
        "## 7"
      ],
      "metadata": {
        "id": "IVG94P5C4Nyr"
      }
    },
    {
      "cell_type": "markdown",
      "source": [
        "###Label Encoder μετατροπή κατηγοριών σε αριθμητικές τιμές"
      ],
      "metadata": {
        "id": "J6u_-9eRZunP"
      }
    },
    {
      "cell_type": "code",
      "source": [
        "# create instance of label encoder\n",
        "labelencoder = LabelEncoder()\n",
        "\n",
        "df['Marital_Status_Encoding'] =  labelencoder.fit_transform(df['Marital_Status'])\n",
        "df['Education_Encoding'] =  labelencoder.fit_transform(df['Education'])\n",
        "df['Living_With_Encoding'] =  labelencoder.fit_transform(df['Living_With'])\n",
        "\n",
        "df.head(10)"
      ],
      "metadata": {
        "id": "wvwaj9zP4PvC"
      },
      "execution_count": null,
      "outputs": []
    },
    {
      "cell_type": "markdown",
      "source": [
        "###Δημιουργία αντιγράφου dataframe"
      ],
      "metadata": {
        "id": "8kQcw9xrcycu"
      }
    },
    {
      "cell_type": "code",
      "source": [
        "num_cols = df.select_dtypes(include=['float64', 'int64'])\n",
        "\n",
        "new_df = num_cols.copy()\n",
        "\n",
        "new_df.head(10)"
      ],
      "metadata": {
        "id": "0HZg3C9zcx8g"
      },
      "execution_count": null,
      "outputs": []
    },
    {
      "cell_type": "markdown",
      "source": [
        "###Διαγραφή στηλών που σχετίζονται με προσφορές και προωθητικές\n",
        "ενέργειες"
      ],
      "metadata": {
        "id": "-l_Pn-sDdc99"
      }
    },
    {
      "cell_type": "code",
      "source": [
        "new_df = new_df.drop(['AcceptedCmp3', 'AcceptedCmp4', 'AcceptedCmp5', 'AcceptedCmp1',\n",
        "'AcceptedCmp2', 'Complain', 'Response'], axis=1)\n",
        "\n",
        "new_df.head(10)"
      ],
      "metadata": {
        "id": "42ggg9Jydcwz"
      },
      "execution_count": null,
      "outputs": []
    },
    {
      "cell_type": "markdown",
      "source": [
        "###Standardization"
      ],
      "metadata": {
        "id": "jhXgoMBSegmk"
      }
    },
    {
      "cell_type": "code",
      "source": [
        "scaler = StandardScaler()\n",
        "\n",
        "scaled_data = scaler.fit_transform(new_df)\n",
        "\n",
        "scaled_data"
      ],
      "metadata": {
        "id": "AefBFEftehTO"
      },
      "execution_count": null,
      "outputs": []
    },
    {
      "cell_type": "markdown",
      "source": [
        "###Χρήση της PCA για μείωση διαστάσεων σε n=3"
      ],
      "metadata": {
        "id": "GVk9qLeJdWKk"
      }
    },
    {
      "cell_type": "code",
      "source": [
        "pca = PCA(n_components=3)\n",
        "\n",
        "X_pca = pca.fit_transform(scaled_data)\n",
        "\n",
        "X_pca"
      ],
      "metadata": {
        "id": "nd7CxahbfGLL"
      },
      "execution_count": null,
      "outputs": []
    },
    {
      "cell_type": "markdown",
      "source": [
        "###Σχεδιάστε την (τρισδιάστατη) προβολή του αποτελέσματος"
      ],
      "metadata": {
        "id": "bYi2PKhQddzz"
      }
    },
    {
      "cell_type": "code",
      "source": [
        "fig = plt.figure(figsize=(8, 8))\n",
        "ax = fig.add_subplot(111, projection='3d')\n",
        "\n",
        "x = X_pca[:, 0]\n",
        "y = X_pca[:, 1]\n",
        "z = X_pca[:, 2]\n",
        "\n",
        "ax.scatter(x, y, z, s=50)\n",
        "\n",
        "ax.set_xlabel('PC1')\n",
        "ax.set_ylabel('PC2')\n",
        "ax.set_zlabel('PC3')\n",
        "\n",
        "plt.show()"
      ],
      "metadata": {
        "id": "0s0zdjgQf5qg"
      },
      "execution_count": null,
      "outputs": []
    },
    {
      "cell_type": "markdown",
      "source": [
        "##8"
      ],
      "metadata": {
        "id": "dPigF2w8gkgR"
      }
    },
    {
      "cell_type": "markdown",
      "source": [
        "###Μέθοδος ELBOW για τον προσδιορισμό του αριθμού των συστάδων που πρέπει να σχηματιστούν"
      ],
      "metadata": {
        "id": "r3DD3Lp-dsnb"
      }
    },
    {
      "cell_type": "code",
      "source": [
        "# Calculate the score for different K-mean values\n",
        "sse = []\n",
        "for k in range(1, 11):\n",
        "  kmeans = KMeans(n_clusters=k, n_init=10)\n",
        "  kmeans.fit(scaled_data)\n",
        "  sse.append(kmeans.inertia_)\n",
        "\n",
        "# Plot the data\n",
        "plt.style.use(\"fivethirtyeight\")\n",
        "plt.plot(range(1, 11), sse)\n",
        "plt.xticks(range(1, 11))\n",
        "plt.xlabel(\"Number of Clusters\")\n",
        "plt.ylabel(\"SSE\")\n",
        "plt.show()"
      ],
      "metadata": {
        "id": "_E_zFfrGgl2C"
      },
      "execution_count": null,
      "outputs": []
    },
    {
      "cell_type": "markdown",
      "source": [
        "###Agglomerative και K-Means"
      ],
      "metadata": {
        "id": "GQ7jgGgtjLVC"
      }
    },
    {
      "cell_type": "code",
      "source": [
        "# Agglomerative Clustering\n",
        "agg = AgglomerativeClustering(n_clusters=3, linkage='ward')\n",
        "agg_labels = agg.fit_predict(X_pca)\n",
        "\n",
        "# K-Means Clustering\n",
        "kmeans = KMeans(n_clusters=3, n_init=10)\n",
        "kmeans_labels = kmeans.fit_predict(X_pca)\n",
        "\n",
        "# Plot the clusters\n",
        "fig = plt.figure(figsize=(15, 6))\n",
        "\n",
        "# Agglomerative Clustering plot\n",
        "ax1 = fig.add_subplot(121, projection='3d')\n",
        "ax1.scatter(X_pca[:, 0], X_pca[:, 1], X_pca[:, 2], c=agg_labels)\n",
        "ax1.set_title('Agglomerative Clustering')\n",
        "\n",
        "# K-Means Clustering plot\n",
        "ax2 = fig.add_subplot(122, projection='3d')\n",
        "ax2.scatter(X_pca[:, 0], X_pca[:, 1], X_pca[:, 2], c=kmeans_labels)\n",
        "ax2.set_title('K-Means Clustering')\n",
        "\n",
        "plt.show()"
      ],
      "metadata": {
        "id": "r0nQdm_LkeqN"
      },
      "execution_count": null,
      "outputs": []
    },
    {
      "cell_type": "markdown",
      "source": [
        "##9"
      ],
      "metadata": {
        "id": "4DJDK2IMlYdO"
      }
    },
    {
      "cell_type": "code",
      "source": [
        "new_df['cluster_labels'] = kmeans_labels\n",
        "\n",
        "cluster_stats = new_df.groupby('cluster_labels').agg(['mean', 'median', 'std'])\n",
        "\n",
        "# Print the basic characteristics of each cluster\n",
        "cluster_stats['NumWebVisitsMonth']"
      ],
      "metadata": {
        "id": "fs6lRaHNlZ4a"
      },
      "execution_count": null,
      "outputs": []
    },
    {
      "cell_type": "markdown",
      "source": [
        "Συγκρίνοντας τα στατιστικά κάθε cluster βγάλαμε τα εξής συμπεράσματα :\n",
        "\n",
        "cluster 0 :\n",
        "* μεγαλύτεροι σε ηλικία\n",
        "* οι περισσότεροι είναι γονείς\n",
        "* έχουν κάνει τις περισσότερες αγορές με discount\n",
        "\n",
        "cluster 1 :\n",
        "* έχουν το περισσότερο εισόδημα\n",
        "* οι περισσότεροι δεν είναι γονείς\n",
        "* ξοδεύουν περισσότερα\n",
        "* έχουν κάνει τις λιγότερες αγορές με discount\n",
        "* έχει τις λιγότερες επισκέψεις online\n",
        "\n",
        "cluster 2 :\n",
        "* έχουν τουλάχιστον 3μελη οικογένεια\n",
        "* έχουν το μικρότερο εισόδημα\n",
        "* είναι οι πιο νέοι σε ηλικία\n",
        "* ξοδεύουν λιγότερα\n",
        "* έχει τις περισσότερες επισκέψεις online\n",
        "\n",
        "\n"
      ],
      "metadata": {
        "id": "iBSirnxdrWd5"
      }
    }
  ]
}